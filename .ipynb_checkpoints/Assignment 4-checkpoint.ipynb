{
 "cells": [
  {
   "cell_type": "markdown",
   "metadata": {},
   "source": [
    "# ML Summer School - Assignment 4\n",
    "\n",
    "In this assignment, we will be clustering movies on the basis of their synopsis. Unlike previous assignments, this time you will be implementing the KMeans clustering algorithm from scratch."
   ]
  },
  {
   "cell_type": "markdown",
   "metadata": {},
   "source": [
    "### Load Libraries"
   ]
  },
  {
   "cell_type": "code",
   "execution_count": 1,
   "metadata": {},
   "outputs": [],
   "source": [
    "import numpy as np\n",
    "import pandas as pd\n",
    "import nltk\n",
    "import re\n",
    "import os\n",
    "from sklearn import feature_extraction\n",
    "import pickle\n",
    "import scipy"
   ]
  },
  {
   "cell_type": "markdown",
   "metadata": {},
   "source": [
    "### Load data\n",
    "We will be using the synopsis of Top 100 movies ranked by IMDb. `titles`, `genres` and `synopsis` are lists stored as pickled files. We first load them into memory. \n",
    "\n",
    "Take a look at the lists we have just loaded."
   ]
  },
  {
   "cell_type": "code",
   "execution_count": 2,
   "metadata": {},
   "outputs": [
    {
     "name": "stdout",
     "output_type": "stream",
     "text": [
      "100 100 100\n"
     ]
    }
   ],
   "source": [
    "titles = pickle.load(open('data/titles.pkl','rb'))\n",
    "genres = pickle.load(open('data/genres.pkl','rb'))\n",
    "synopsis = pickle.load(open('data/synopses.pkl','rb'))\n",
    "print(len(titles), len(genres), len(synopsis))"
   ]
  },
  {
   "cell_type": "markdown",
   "metadata": {},
   "source": [
    "### Preprocessing the Data"
   ]
  },
  {
   "cell_type": "markdown",
   "metadata": {},
   "source": [
    "Let us take a look at some of the synopsis."
   ]
  },
  {
   "cell_type": "code",
   "execution_count": 3,
   "metadata": {},
   "outputs": [
    {
     "name": "stdout",
     "output_type": "stream",
     "text": [
      " Plot  [edit]  [  [  edit  edit  ]  ]  \n",
      "  On the day of his only daughter's wedding, Vito Corleone hears requests in his role as the Godfather, the Don of a New York crime family. Vito's youngest son, Michael, in a Marine Corps uniform, introduces his girlfriend, Kay Adams, to his family at the sprawling reception. Vito's godson Johnny Fontane, a popular singer, pleads for help in securing a coveted movie role, so Vito dispatches his consigliere, Tom Hagen, to Los Angeles to influence the abrasive studio head, Jack Woltz. Woltz is unmoved until the morning he wakes up in bed with the severed head of his prized stallion.  On the day of his only daughter's wedding,   Vito Corleone  Vito Corleone   hears requests in his role as the Godfather, the   Don  Don   of a New York crime family. Vito's youngest son,   Michael  Michael  , in a   Marine Corps  Marine Corps   uniform, introduces his girlfriend,   Kay Adams  Kay Adams  , to his family at the sprawling reception. Vito's godson   Johnny\n"
     ]
    }
   ],
   "source": [
    "print(synopsis[0][:1000])"
   ]
  },
  {
   "cell_type": "code",
   "execution_count": 4,
   "metadata": {},
   "outputs": [
    {
     "name": "stdout",
     "output_type": "stream",
     "text": [
      " Plot  [edit]  [  [  edit  edit  ]  ]  \n",
      "  In 1947, banker Andy Dufresne is convicted of murdering his wife and her lover and sentenced to two consecutive life sentences at the fictional Shawshank State Penitentiary in the state of Maine. Andy befriends contraband smuggler Ellis \"Red\" Redding, an inmate serving a life sentence. Red procures a rock hammer and later a large poster of Rita Hayworth for Andy. Working in the prison laundry, Andy is regularly assaulted by the \"bull queer\" gang \"the Sisters\" and their leader, Bogs.  In 1947, banker Andy Dufresne is convicted of murdering his wife and her lover and sentenced to two consecutive life sentences at the fictional Shawshank State Penitentiary in the state of Maine. Andy befriends   contraband  contraband   smuggler Ellis \"Red\" Redding, an inmate serving a life sentence. Red procures a   rock hammer  rock hammer   and later a large poster of   Rita Hayworth  Rita Hayworth   for Andy. Working in the prison laundry, Andy is regularly as\n"
     ]
    }
   ],
   "source": [
    "print(synopsis[1][:1000])"
   ]
  },
  {
   "cell_type": "markdown",
   "metadata": {},
   "source": [
    "We can see that the synopsis contain a lot of names (Proper Nouns) and years. They are specific to the movies and do not seem to be helpful to cluster the movies. We should remove them\n",
    "\n",
    "We will also be lemmatizing the words. [Lemmatizing](https://www.twinword.com/blog/what-is-lemmatization/ ) refers to replacing word by its base form (lemma). For example, lemmatizing `cars` gives `car`. Lemmatizing will help in clubbing all different inflections of words, eg. `loves`, `loving`, `loved` will all be lemmatized to `love`."
   ]
  },
  {
   "cell_type": "markdown",
   "metadata": {},
   "source": [
    "### Task 1"
   ]
  },
  {
   "cell_type": "markdown",
   "metadata": {},
   "source": [
    "Complete the following function `preprocess_data`. It takes in text as input, and [removes proper nouns](https://stackoverflow.com/questions/39634222/is-there-a-way-to-remove-proper-nouns-from-a-sentence-using-python), non-alphabetic words, lemmatizes the data and lower cases the entire text."
   ]
  },
  {
   "cell_type": "code",
   "execution_count": 5,
   "metadata": {},
   "outputs": [],
   "source": [
    "def preprocess_data(text):\n",
    "    \"\"\"Removes proper noun, non-alphabetic words, lemmatizes the data and lower cases the entire text\"\"\"\n",
    "    \n",
    "    # YOUR CODE STARTS HERE\n",
    "    \n",
    "            \n",
    "    # YOUR CODE ENDS HERE\n",
    "    \n",
    "    return text"
   ]
  },
  {
   "cell_type": "markdown",
   "metadata": {},
   "source": [
    "**Sample input**: preprocess_data(synopsis[0][:1000])\n",
    "\n",
    "\n",
    "**Sample output**: 'edit edit edit day daughter wedding hear request role crime family son uniform introduce girlfriend family reception godson singer pleads help secure movie role dispatch consigliere influence studio head be unmoved morning wake bed head stallion day daughter wedding hear request role crime family son uniform introduce girlfriend family reception godson'\n",
    "\n"
   ]
  },
  {
   "cell_type": "code",
   "execution_count": 6,
   "metadata": {
    "scrolled": true
   },
   "outputs": [
    {
     "data": {
      "text/plain": [
       "'edit edit edit day daughter wedding hear request role crime family son uniform introduce girlfriend family reception godson singer pleads help secure movie role dispatch consigliere influence studio head be unmoved morning wake bed head stallion day daughter wedding hear request role crime family son uniform introduce girlfriend family reception godson'"
      ]
     },
     "execution_count": 6,
     "metadata": {},
     "output_type": "execute_result"
    }
   ],
   "source": [
    "preprocess_data(synopsis[0][:1000])"
   ]
  },
  {
   "cell_type": "markdown",
   "metadata": {},
   "source": [
    "### Creating the Features\n",
    "\n",
    "We will extract features from the synopsis using TfIdf Vectoriser, which will be used to cluster the movies. \n",
    "\n",
    "Read more about TfIdf Vectoriser [here](http://blog.christianperone.com/2011/09/machine-learning-text-feature-extraction-tf-idf-part-i/) and [here](http://blog.christianperone.com/2011/10/machine-learning-text-feature-extraction-tf-idf-part-ii/)."
   ]
  },
  {
   "cell_type": "code",
   "execution_count": 7,
   "metadata": {},
   "outputs": [
    {
     "name": "stdout",
     "output_type": "stream",
     "text": [
      "CPU times: user 16.3 s, sys: 8.29 ms, total: 16.4 s\n",
      "Wall time: 16.4 s\n",
      "(100, 364)\n"
     ]
    }
   ],
   "source": [
    "from sklearn.feature_extraction.text import TfidfVectorizer\n",
    "\n",
    "tfidf_vectorizer = TfidfVectorizer(max_df=0.8, max_features=20000, min_df=0.2,\\\n",
    "                                   stop_words='english', preprocessor=preprocess_data, \\\n",
    "                                   use_idf=True, ngram_range=(1, 1))\n",
    "\n",
    "%time tfidf_matrix = tfidf_vectorizer.fit_transform(synopsis)\n",
    "\n",
    "print(tfidf_matrix.shape)\n",
    "terms = tfidf_vectorizer.get_feature_names()"
   ]
  },
  {
   "cell_type": "code",
   "execution_count": 8,
   "metadata": {},
   "outputs": [
    {
     "data": {
      "text/plain": [
       "<100x364 sparse matrix of type '<class 'numpy.float64'>'\n",
       "\twith 13128 stored elements in Compressed Sparse Row format>"
      ]
     },
     "execution_count": 8,
     "metadata": {},
     "output_type": "execute_result"
    }
   ],
   "source": [
    "tfidf_matrix"
   ]
  },
  {
   "cell_type": "markdown",
   "metadata": {},
   "source": [
    "### Task 2 - Implementing KMeans\n",
    "\n",
    "This is the most important task of this assignment because in this, you will implement your own K-Means. Fill in the function `KMeans` which will return the labels and cluster centers in the tuple `(labels,centers)` for the given feature matrix `X` and `num_clusters`. We also pass the `max_iter` parameter to run KMeans for that many iterations as it sometimes gets stuck on a local minima. You can learn more about Kmeans clustering [here](https://en.wikipedia.org/wiki/K-means_clustering) and [here](https://www.datascience.com/blog/k-means-clustering).\n",
    "\n",
    "**Sample Input**: `[[2,1], [2,3], [8,1], [8,3]]`, `num_clusters=2`\n",
    "\n",
    "**Sample Output**: `([0,0,1,1], [[2,2], [8,2]])`"
   ]
  },
  {
   "cell_type": "code",
   "execution_count": 9,
   "metadata": {},
   "outputs": [],
   "source": [
    "def Kmeans(X, num_clusters=8, max_iter=300):\n",
    "\n",
    "    # YOUR CODE STARTS HERE\n",
    "    \n",
    "    # YOUR CODE ENDS HERE\n",
    "    \n",
    "    return (labels, centers)"
   ]
  },
  {
   "cell_type": "code",
   "execution_count": 10,
   "metadata": {},
   "outputs": [
    {
     "data": {
      "text/plain": [
       "(array([0., 0., 1., 1.]), array([[2, 2],\n",
       "        [8, 2]]))"
      ]
     },
     "execution_count": 10,
     "metadata": {},
     "output_type": "execute_result"
    }
   ],
   "source": [
    "Kmeans(np.array([[2,1], [2,3], [8,1], [8,3]]), num_clusters=2)"
   ]
  },
  {
   "cell_type": "markdown",
   "metadata": {},
   "source": [
    "Cluster the synopsis (represented as TfIdf vectors) using Kmeans. You can play with different number of centers and maximum iterations to get different results."
   ]
  },
  {
   "cell_type": "code",
   "execution_count": 11,
   "metadata": {},
   "outputs": [
    {
     "name": "stdout",
     "output_type": "stream",
     "text": [
      "CPU times: user 4.71 s, sys: 4.01 ms, total: 4.72 s\n",
      "Wall time: 4.71 s\n"
     ]
    }
   ],
   "source": [
    "%time (labels, centers) = Kmeans(tfidf_matrix.todense(), num_clusters=3, max_iter=1000)"
   ]
  },
  {
   "cell_type": "markdown",
   "metadata": {},
   "source": [
    "Now we create a dataframe `frame` that stores the the clusters labels, names and genres for all the 100 movies."
   ]
  },
  {
   "cell_type": "code",
   "execution_count": 12,
   "metadata": {
    "scrolled": false
   },
   "outputs": [
    {
     "data": {
      "text/html": [
       "<div>\n",
       "<style scoped>\n",
       "    .dataframe tbody tr th:only-of-type {\n",
       "        vertical-align: middle;\n",
       "    }\n",
       "\n",
       "    .dataframe tbody tr th {\n",
       "        vertical-align: top;\n",
       "    }\n",
       "\n",
       "    .dataframe thead th {\n",
       "        text-align: right;\n",
       "    }\n",
       "</style>\n",
       "<table border=\"1\" class=\"dataframe\">\n",
       "  <thead>\n",
       "    <tr style=\"text-align: right;\">\n",
       "      <th></th>\n",
       "      <th>title</th>\n",
       "      <th>cluster</th>\n",
       "      <th>genre</th>\n",
       "    </tr>\n",
       "  </thead>\n",
       "  <tbody>\n",
       "    <tr>\n",
       "      <th>2.0</th>\n",
       "      <td>The Godfather</td>\n",
       "      <td>2.0</td>\n",
       "      <td>[u' Crime', u' Drama']</td>\n",
       "    </tr>\n",
       "    <tr>\n",
       "      <th>2.0</th>\n",
       "      <td>The Shawshank Redemption</td>\n",
       "      <td>2.0</td>\n",
       "      <td>[u' Crime', u' Drama']</td>\n",
       "    </tr>\n",
       "    <tr>\n",
       "      <th>1.0</th>\n",
       "      <td>Schindler's List</td>\n",
       "      <td>1.0</td>\n",
       "      <td>[u' Biography', u' Drama', u' History']</td>\n",
       "    </tr>\n",
       "    <tr>\n",
       "      <th>2.0</th>\n",
       "      <td>Raging Bull</td>\n",
       "      <td>2.0</td>\n",
       "      <td>[u' Biography', u' Drama', u' Sport']</td>\n",
       "    </tr>\n",
       "    <tr>\n",
       "      <th>0.0</th>\n",
       "      <td>Casablanca</td>\n",
       "      <td>0.0</td>\n",
       "      <td>[u' Drama', u' Romance', u' War']</td>\n",
       "    </tr>\n",
       "    <tr>\n",
       "      <th>0.0</th>\n",
       "      <td>One Flew Over the Cuckoo's Nest</td>\n",
       "      <td>0.0</td>\n",
       "      <td>[u' Drama']</td>\n",
       "    </tr>\n",
       "    <tr>\n",
       "      <th>2.0</th>\n",
       "      <td>Gone with the Wind</td>\n",
       "      <td>2.0</td>\n",
       "      <td>[u' Drama', u' Romance', u' War']</td>\n",
       "    </tr>\n",
       "    <tr>\n",
       "      <th>0.0</th>\n",
       "      <td>Citizen Kane</td>\n",
       "      <td>0.0</td>\n",
       "      <td>[u' Drama', u' Mystery']</td>\n",
       "    </tr>\n",
       "    <tr>\n",
       "      <th>1.0</th>\n",
       "      <td>The Wizard of Oz</td>\n",
       "      <td>1.0</td>\n",
       "      <td>[u' Adventure', u' Family', u' Fantasy', u' Mu...</td>\n",
       "    </tr>\n",
       "    <tr>\n",
       "      <th>1.0</th>\n",
       "      <td>Titanic</td>\n",
       "      <td>1.0</td>\n",
       "      <td>[u' Drama', u' Romance']</td>\n",
       "    </tr>\n",
       "    <tr>\n",
       "      <th>1.0</th>\n",
       "      <td>Lawrence of Arabia</td>\n",
       "      <td>1.0</td>\n",
       "      <td>[u' Adventure', u' Biography', u' Drama', u' H...</td>\n",
       "    </tr>\n",
       "    <tr>\n",
       "      <th>2.0</th>\n",
       "      <td>The Godfather: Part II</td>\n",
       "      <td>2.0</td>\n",
       "      <td>[u' Crime', u' Drama']</td>\n",
       "    </tr>\n",
       "    <tr>\n",
       "      <th>2.0</th>\n",
       "      <td>Psycho</td>\n",
       "      <td>2.0</td>\n",
       "      <td>[u' Horror', u' Mystery', u' Thriller']</td>\n",
       "    </tr>\n",
       "    <tr>\n",
       "      <th>2.0</th>\n",
       "      <td>Sunset Blvd.</td>\n",
       "      <td>2.0</td>\n",
       "      <td>[u' Drama', u' Film-Noir']</td>\n",
       "    </tr>\n",
       "    <tr>\n",
       "      <th>0.0</th>\n",
       "      <td>Vertigo</td>\n",
       "      <td>0.0</td>\n",
       "      <td>[u' Mystery', u' Romance', u' Thriller']</td>\n",
       "    </tr>\n",
       "    <tr>\n",
       "      <th>2.0</th>\n",
       "      <td>On the Waterfront</td>\n",
       "      <td>2.0</td>\n",
       "      <td>[u' Crime', u' Drama']</td>\n",
       "    </tr>\n",
       "    <tr>\n",
       "      <th>0.0</th>\n",
       "      <td>Forrest Gump</td>\n",
       "      <td>0.0</td>\n",
       "      <td>[u' Drama', u' Romance']</td>\n",
       "    </tr>\n",
       "    <tr>\n",
       "      <th>0.0</th>\n",
       "      <td>The Sound of Music</td>\n",
       "      <td>0.0</td>\n",
       "      <td>[u' Biography', u' Drama', u' Family', u' Musi...</td>\n",
       "    </tr>\n",
       "    <tr>\n",
       "      <th>0.0</th>\n",
       "      <td>West Side Story</td>\n",
       "      <td>0.0</td>\n",
       "      <td>[u' Crime', u' Drama', u' Musical', u' Romance...</td>\n",
       "    </tr>\n",
       "    <tr>\n",
       "      <th>1.0</th>\n",
       "      <td>Star Wars</td>\n",
       "      <td>1.0</td>\n",
       "      <td>[u' Action', u' Adventure', u' Fantasy', u' Sc...</td>\n",
       "    </tr>\n",
       "    <tr>\n",
       "      <th>0.0</th>\n",
       "      <td>E.T. the Extra-Terrestrial</td>\n",
       "      <td>0.0</td>\n",
       "      <td>[u' Adventure', u' Family', u' Sci-Fi']</td>\n",
       "    </tr>\n",
       "    <tr>\n",
       "      <th>0.0</th>\n",
       "      <td>2001: A Space Odyssey</td>\n",
       "      <td>0.0</td>\n",
       "      <td>[u' Mystery', u' Sci-Fi']</td>\n",
       "    </tr>\n",
       "    <tr>\n",
       "      <th>1.0</th>\n",
       "      <td>The Silence of the Lambs</td>\n",
       "      <td>1.0</td>\n",
       "      <td>[u' Crime', u' Drama', u' Thriller']</td>\n",
       "    </tr>\n",
       "    <tr>\n",
       "      <th>2.0</th>\n",
       "      <td>Chinatown</td>\n",
       "      <td>2.0</td>\n",
       "      <td>[u' Drama', u' Mystery', u' Thriller']</td>\n",
       "    </tr>\n",
       "    <tr>\n",
       "      <th>1.0</th>\n",
       "      <td>The Bridge on the River Kwai</td>\n",
       "      <td>1.0</td>\n",
       "      <td>[u' Adventure', u' Drama', u' War']</td>\n",
       "    </tr>\n",
       "    <tr>\n",
       "      <th>0.0</th>\n",
       "      <td>Singin' in the Rain</td>\n",
       "      <td>0.0</td>\n",
       "      <td>[u' Comedy', u' Musical', u' Romance']</td>\n",
       "    </tr>\n",
       "    <tr>\n",
       "      <th>2.0</th>\n",
       "      <td>It's a Wonderful Life</td>\n",
       "      <td>2.0</td>\n",
       "      <td>[u' Drama', u' Family', u' Fantasy']</td>\n",
       "    </tr>\n",
       "    <tr>\n",
       "      <th>0.0</th>\n",
       "      <td>Some Like It Hot</td>\n",
       "      <td>0.0</td>\n",
       "      <td>[u' Comedy']</td>\n",
       "    </tr>\n",
       "    <tr>\n",
       "      <th>1.0</th>\n",
       "      <td>12 Angry Men</td>\n",
       "      <td>1.0</td>\n",
       "      <td>[u' Drama']</td>\n",
       "    </tr>\n",
       "    <tr>\n",
       "      <th>1.0</th>\n",
       "      <td>Dr. Strangelove or: How I Learned to Stop Worr...</td>\n",
       "      <td>1.0</td>\n",
       "      <td>[u' Comedy', u' War']</td>\n",
       "    </tr>\n",
       "    <tr>\n",
       "      <th>...</th>\n",
       "      <td>...</td>\n",
       "      <td>...</td>\n",
       "      <td>...</td>\n",
       "    </tr>\n",
       "    <tr>\n",
       "      <th>2.0</th>\n",
       "      <td>Rain Man</td>\n",
       "      <td>2.0</td>\n",
       "      <td>[u' Drama']</td>\n",
       "    </tr>\n",
       "    <tr>\n",
       "      <th>0.0</th>\n",
       "      <td>Annie Hall</td>\n",
       "      <td>0.0</td>\n",
       "      <td>[u' Comedy', u' Drama', u' Romance']</td>\n",
       "    </tr>\n",
       "    <tr>\n",
       "      <th>2.0</th>\n",
       "      <td>Out of Africa</td>\n",
       "      <td>2.0</td>\n",
       "      <td>[u' Biography', u' Drama', u' Romance']</td>\n",
       "    </tr>\n",
       "    <tr>\n",
       "      <th>0.0</th>\n",
       "      <td>Good Will Hunting</td>\n",
       "      <td>0.0</td>\n",
       "      <td>[u' Drama']</td>\n",
       "    </tr>\n",
       "    <tr>\n",
       "      <th>2.0</th>\n",
       "      <td>Terms of Endearment</td>\n",
       "      <td>2.0</td>\n",
       "      <td>[u' Comedy', u' Drama']</td>\n",
       "    </tr>\n",
       "    <tr>\n",
       "      <th>0.0</th>\n",
       "      <td>Tootsie</td>\n",
       "      <td>0.0</td>\n",
       "      <td>[u' Comedy', u' Drama', u' Romance']</td>\n",
       "    </tr>\n",
       "    <tr>\n",
       "      <th>2.0</th>\n",
       "      <td>Fargo</td>\n",
       "      <td>2.0</td>\n",
       "      <td>[u' Crime', u' Drama', u' Thriller']</td>\n",
       "    </tr>\n",
       "    <tr>\n",
       "      <th>2.0</th>\n",
       "      <td>Giant</td>\n",
       "      <td>2.0</td>\n",
       "      <td>[u' Drama', u' Romance']</td>\n",
       "    </tr>\n",
       "    <tr>\n",
       "      <th>1.0</th>\n",
       "      <td>The Grapes of Wrath</td>\n",
       "      <td>1.0</td>\n",
       "      <td>[u' Drama']</td>\n",
       "    </tr>\n",
       "    <tr>\n",
       "      <th>1.0</th>\n",
       "      <td>Shane</td>\n",
       "      <td>1.0</td>\n",
       "      <td>[u' Drama', u' Romance', u' Western']</td>\n",
       "    </tr>\n",
       "    <tr>\n",
       "      <th>0.0</th>\n",
       "      <td>The Green Mile</td>\n",
       "      <td>0.0</td>\n",
       "      <td>[u' Crime', u' Drama', u' Fantasy', u' Mystery']</td>\n",
       "    </tr>\n",
       "    <tr>\n",
       "      <th>1.0</th>\n",
       "      <td>Close Encounters of the Third Kind</td>\n",
       "      <td>1.0</td>\n",
       "      <td>[u' Drama', u' Sci-Fi']</td>\n",
       "    </tr>\n",
       "    <tr>\n",
       "      <th>0.0</th>\n",
       "      <td>Network</td>\n",
       "      <td>0.0</td>\n",
       "      <td>[u' Drama']</td>\n",
       "    </tr>\n",
       "    <tr>\n",
       "      <th>0.0</th>\n",
       "      <td>Nashville</td>\n",
       "      <td>0.0</td>\n",
       "      <td>[u' Drama', u' Music']</td>\n",
       "    </tr>\n",
       "    <tr>\n",
       "      <th>0.0</th>\n",
       "      <td>The Graduate</td>\n",
       "      <td>0.0</td>\n",
       "      <td>[u' Comedy', u' Drama', u' Romance']</td>\n",
       "    </tr>\n",
       "    <tr>\n",
       "      <th>2.0</th>\n",
       "      <td>American Graffiti</td>\n",
       "      <td>2.0</td>\n",
       "      <td>[u' Comedy', u' Drama']</td>\n",
       "    </tr>\n",
       "    <tr>\n",
       "      <th>2.0</th>\n",
       "      <td>Pulp Fiction</td>\n",
       "      <td>2.0</td>\n",
       "      <td>[u' Crime', u' Drama', u' Thriller']</td>\n",
       "    </tr>\n",
       "    <tr>\n",
       "      <th>1.0</th>\n",
       "      <td>The African Queen</td>\n",
       "      <td>1.0</td>\n",
       "      <td>[u' Adventure', u' Romance', u' War']</td>\n",
       "    </tr>\n",
       "    <tr>\n",
       "      <th>1.0</th>\n",
       "      <td>Stagecoach</td>\n",
       "      <td>1.0</td>\n",
       "      <td>[u' Adventure', u' Western']</td>\n",
       "    </tr>\n",
       "    <tr>\n",
       "      <th>1.0</th>\n",
       "      <td>Mutiny on the Bounty</td>\n",
       "      <td>1.0</td>\n",
       "      <td>[u' Adventure', u' Drama', u' History']</td>\n",
       "    </tr>\n",
       "    <tr>\n",
       "      <th>1.0</th>\n",
       "      <td>The Maltese Falcon</td>\n",
       "      <td>1.0</td>\n",
       "      <td>[u' Drama', u' Film-Noir', u' Mystery']</td>\n",
       "    </tr>\n",
       "    <tr>\n",
       "      <th>0.0</th>\n",
       "      <td>A Clockwork Orange</td>\n",
       "      <td>0.0</td>\n",
       "      <td>[u' Crime', u' Drama', u' Sci-Fi']</td>\n",
       "    </tr>\n",
       "    <tr>\n",
       "      <th>1.0</th>\n",
       "      <td>Taxi Driver</td>\n",
       "      <td>1.0</td>\n",
       "      <td>[u' Crime', u' Drama']</td>\n",
       "    </tr>\n",
       "    <tr>\n",
       "      <th>0.0</th>\n",
       "      <td>Wuthering Heights</td>\n",
       "      <td>0.0</td>\n",
       "      <td>[u' Drama', u' Romance']</td>\n",
       "    </tr>\n",
       "    <tr>\n",
       "      <th>2.0</th>\n",
       "      <td>Double Indemnity</td>\n",
       "      <td>2.0</td>\n",
       "      <td>[u' Crime', u' Drama', u' Film-Noir', u' Thril...</td>\n",
       "    </tr>\n",
       "    <tr>\n",
       "      <th>2.0</th>\n",
       "      <td>Rebel Without a Cause</td>\n",
       "      <td>2.0</td>\n",
       "      <td>[u' Drama']</td>\n",
       "    </tr>\n",
       "    <tr>\n",
       "      <th>0.0</th>\n",
       "      <td>Rear Window</td>\n",
       "      <td>0.0</td>\n",
       "      <td>[u' Mystery', u' Thriller']</td>\n",
       "    </tr>\n",
       "    <tr>\n",
       "      <th>0.0</th>\n",
       "      <td>The Third Man</td>\n",
       "      <td>0.0</td>\n",
       "      <td>[u' Film-Noir', u' Mystery', u' Thriller']</td>\n",
       "    </tr>\n",
       "    <tr>\n",
       "      <th>2.0</th>\n",
       "      <td>North by Northwest</td>\n",
       "      <td>2.0</td>\n",
       "      <td>[u' Mystery', u' Thriller']</td>\n",
       "    </tr>\n",
       "    <tr>\n",
       "      <th>0.0</th>\n",
       "      <td>Yankee Doodle Dandy</td>\n",
       "      <td>0.0</td>\n",
       "      <td>[u' Biography', u' Drama', u' Musical']</td>\n",
       "    </tr>\n",
       "  </tbody>\n",
       "</table>\n",
       "<p>100 rows × 3 columns</p>\n",
       "</div>"
      ],
      "text/plain": [
       "                                                 title  cluster  \\\n",
       "2.0                                      The Godfather      2.0   \n",
       "2.0                           The Shawshank Redemption      2.0   \n",
       "1.0                                   Schindler's List      1.0   \n",
       "2.0                                        Raging Bull      2.0   \n",
       "0.0                                         Casablanca      0.0   \n",
       "0.0                    One Flew Over the Cuckoo's Nest      0.0   \n",
       "2.0                                 Gone with the Wind      2.0   \n",
       "0.0                                       Citizen Kane      0.0   \n",
       "1.0                                   The Wizard of Oz      1.0   \n",
       "1.0                                            Titanic      1.0   \n",
       "1.0                                 Lawrence of Arabia      1.0   \n",
       "2.0                             The Godfather: Part II      2.0   \n",
       "2.0                                             Psycho      2.0   \n",
       "2.0                                       Sunset Blvd.      2.0   \n",
       "0.0                                            Vertigo      0.0   \n",
       "2.0                                  On the Waterfront      2.0   \n",
       "0.0                                       Forrest Gump      0.0   \n",
       "0.0                                 The Sound of Music      0.0   \n",
       "0.0                                    West Side Story      0.0   \n",
       "1.0                                          Star Wars      1.0   \n",
       "0.0                         E.T. the Extra-Terrestrial      0.0   \n",
       "0.0                              2001: A Space Odyssey      0.0   \n",
       "1.0                           The Silence of the Lambs      1.0   \n",
       "2.0                                          Chinatown      2.0   \n",
       "1.0                       The Bridge on the River Kwai      1.0   \n",
       "0.0                                Singin' in the Rain      0.0   \n",
       "2.0                              It's a Wonderful Life      2.0   \n",
       "0.0                                   Some Like It Hot      0.0   \n",
       "1.0                                       12 Angry Men      1.0   \n",
       "1.0  Dr. Strangelove or: How I Learned to Stop Worr...      1.0   \n",
       "..                                                 ...      ...   \n",
       "2.0                                           Rain Man      2.0   \n",
       "0.0                                         Annie Hall      0.0   \n",
       "2.0                                      Out of Africa      2.0   \n",
       "0.0                                  Good Will Hunting      0.0   \n",
       "2.0                                Terms of Endearment      2.0   \n",
       "0.0                                            Tootsie      0.0   \n",
       "2.0                                              Fargo      2.0   \n",
       "2.0                                              Giant      2.0   \n",
       "1.0                                The Grapes of Wrath      1.0   \n",
       "1.0                                              Shane      1.0   \n",
       "0.0                                     The Green Mile      0.0   \n",
       "1.0                 Close Encounters of the Third Kind      1.0   \n",
       "0.0                                            Network      0.0   \n",
       "0.0                                          Nashville      0.0   \n",
       "0.0                                       The Graduate      0.0   \n",
       "2.0                                  American Graffiti      2.0   \n",
       "2.0                                       Pulp Fiction      2.0   \n",
       "1.0                                  The African Queen      1.0   \n",
       "1.0                                         Stagecoach      1.0   \n",
       "1.0                               Mutiny on the Bounty      1.0   \n",
       "1.0                                 The Maltese Falcon      1.0   \n",
       "0.0                                 A Clockwork Orange      0.0   \n",
       "1.0                                        Taxi Driver      1.0   \n",
       "0.0                                  Wuthering Heights      0.0   \n",
       "2.0                                   Double Indemnity      2.0   \n",
       "2.0                              Rebel Without a Cause      2.0   \n",
       "0.0                                        Rear Window      0.0   \n",
       "0.0                                      The Third Man      0.0   \n",
       "2.0                                 North by Northwest      2.0   \n",
       "0.0                                Yankee Doodle Dandy      0.0   \n",
       "\n",
       "                                                 genre  \n",
       "2.0                             [u' Crime', u' Drama']  \n",
       "2.0                             [u' Crime', u' Drama']  \n",
       "1.0            [u' Biography', u' Drama', u' History']  \n",
       "2.0              [u' Biography', u' Drama', u' Sport']  \n",
       "0.0                  [u' Drama', u' Romance', u' War']  \n",
       "0.0                                        [u' Drama']  \n",
       "2.0                  [u' Drama', u' Romance', u' War']  \n",
       "0.0                           [u' Drama', u' Mystery']  \n",
       "1.0  [u' Adventure', u' Family', u' Fantasy', u' Mu...  \n",
       "1.0                           [u' Drama', u' Romance']  \n",
       "1.0  [u' Adventure', u' Biography', u' Drama', u' H...  \n",
       "2.0                             [u' Crime', u' Drama']  \n",
       "2.0            [u' Horror', u' Mystery', u' Thriller']  \n",
       "2.0                         [u' Drama', u' Film-Noir']  \n",
       "0.0           [u' Mystery', u' Romance', u' Thriller']  \n",
       "2.0                             [u' Crime', u' Drama']  \n",
       "0.0                           [u' Drama', u' Romance']  \n",
       "0.0  [u' Biography', u' Drama', u' Family', u' Musi...  \n",
       "0.0  [u' Crime', u' Drama', u' Musical', u' Romance...  \n",
       "1.0  [u' Action', u' Adventure', u' Fantasy', u' Sc...  \n",
       "0.0            [u' Adventure', u' Family', u' Sci-Fi']  \n",
       "0.0                          [u' Mystery', u' Sci-Fi']  \n",
       "1.0               [u' Crime', u' Drama', u' Thriller']  \n",
       "2.0             [u' Drama', u' Mystery', u' Thriller']  \n",
       "1.0                [u' Adventure', u' Drama', u' War']  \n",
       "0.0             [u' Comedy', u' Musical', u' Romance']  \n",
       "2.0               [u' Drama', u' Family', u' Fantasy']  \n",
       "0.0                                       [u' Comedy']  \n",
       "1.0                                        [u' Drama']  \n",
       "1.0                              [u' Comedy', u' War']  \n",
       "..                                                 ...  \n",
       "2.0                                        [u' Drama']  \n",
       "0.0               [u' Comedy', u' Drama', u' Romance']  \n",
       "2.0            [u' Biography', u' Drama', u' Romance']  \n",
       "0.0                                        [u' Drama']  \n",
       "2.0                            [u' Comedy', u' Drama']  \n",
       "0.0               [u' Comedy', u' Drama', u' Romance']  \n",
       "2.0               [u' Crime', u' Drama', u' Thriller']  \n",
       "2.0                           [u' Drama', u' Romance']  \n",
       "1.0                                        [u' Drama']  \n",
       "1.0              [u' Drama', u' Romance', u' Western']  \n",
       "0.0   [u' Crime', u' Drama', u' Fantasy', u' Mystery']  \n",
       "1.0                            [u' Drama', u' Sci-Fi']  \n",
       "0.0                                        [u' Drama']  \n",
       "0.0                             [u' Drama', u' Music']  \n",
       "0.0               [u' Comedy', u' Drama', u' Romance']  \n",
       "2.0                            [u' Comedy', u' Drama']  \n",
       "2.0               [u' Crime', u' Drama', u' Thriller']  \n",
       "1.0              [u' Adventure', u' Romance', u' War']  \n",
       "1.0                       [u' Adventure', u' Western']  \n",
       "1.0            [u' Adventure', u' Drama', u' History']  \n",
       "1.0            [u' Drama', u' Film-Noir', u' Mystery']  \n",
       "0.0                 [u' Crime', u' Drama', u' Sci-Fi']  \n",
       "1.0                             [u' Crime', u' Drama']  \n",
       "0.0                           [u' Drama', u' Romance']  \n",
       "2.0  [u' Crime', u' Drama', u' Film-Noir', u' Thril...  \n",
       "2.0                                        [u' Drama']  \n",
       "0.0                        [u' Mystery', u' Thriller']  \n",
       "0.0         [u' Film-Noir', u' Mystery', u' Thriller']  \n",
       "2.0                        [u' Mystery', u' Thriller']  \n",
       "0.0            [u' Biography', u' Drama', u' Musical']  \n",
       "\n",
       "[100 rows x 3 columns]"
      ]
     },
     "execution_count": 12,
     "metadata": {},
     "output_type": "execute_result"
    }
   ],
   "source": [
    "import pandas as pd\n",
    "films = {'title': titles, 'synopsis': synopsis, 'cluster': labels, 'genre': genres}\n",
    "frame = pd.DataFrame(films, index = [labels] , columns = ['title', 'cluster', 'genre'])\n",
    "frame"
   ]
  },
  {
   "cell_type": "markdown",
   "metadata": {},
   "source": [
    "Movie counts for a particular cluster."
   ]
  },
  {
   "cell_type": "code",
   "execution_count": 13,
   "metadata": {
    "scrolled": true
   },
   "outputs": [
    {
     "data": {
      "text/plain": [
       "2.0    36\n",
       "1.0    33\n",
       "0.0    31\n",
       "Name: cluster, dtype: int64"
      ]
     },
     "execution_count": 13,
     "metadata": {},
     "output_type": "execute_result"
    }
   ],
   "source": [
    "frame['cluster'].value_counts()"
   ]
  },
  {
   "cell_type": "markdown",
   "metadata": {},
   "source": [
    "### Interpreting Results\n",
    "We sort the cluster centers to get the most important terms per cluster and store it in `cluster_names`. We print them along with the movies in that cluster and look how well has KMeans worked."
   ]
  },
  {
   "cell_type": "code",
   "execution_count": 14,
   "metadata": {
    "scrolled": false
   },
   "outputs": [
    {
     "name": "stdout",
     "output_type": "stream",
     "text": [
      "Top terms per cluster:\n",
      "Cluster 0 words: love, friend, apartment, film, say, sing,\n",
      "Cluster 0 titles: Casablanca, One Flew Over the Cuckoo's Nest, Citizen Kane, Vertigo, Forrest Gump, The Sound of Music, West Side Story, E.T. the Extra-Terrestrial, 2001: A Space Odyssey, Singin' in the Rain, Some Like It Hot, Gandhi, From Here to Eternity, Rocky, An American in Paris, The Good, the Bad and the Ugly, The Apartment, The Deer Hunter, A Place in the Sun, Annie Hall, Good Will Hunting, Tootsie, The Green Mile, Network, Nashville, The Graduate, A Clockwork Orange, Wuthering Heights, Rear Window, The Third Man, Yankee Doodle Dandy,\n",
      "\n",
      "Cluster 1 words: kill, soldier, men, shoot, order, town,\n",
      "Cluster 1 titles: Schindler's List, The Wizard of Oz, Titanic, Lawrence of Arabia, Star Wars, The Silence of the Lambs, The Bridge on the River Kwai, 12 Angry Men, Dr. Strangelove or: How I Learned to Stop Worrying and Love the Bomb, Apocalypse Now, The Lord of the Rings: The Return of the King, Gladiator, Saving Private Ryan, Unforgiven, Raiders of the Lost Ark, Patton, Jaws, Butch Cassidy and the Sundance Kid, The Treasure of the Sierra Madre, Platoon, High Noon, Dances with Wolves, The Pianist, All Quiet on the Western Front, Mr. Smith Goes to Washington, The Grapes of Wrath, Shane, Close Encounters of the Third Kind, The African Queen, Stagecoach, Mutiny on the Bounty, The Maltese Falcon, Taxi Driver,\n",
      "\n",
      "Cluster 2 words: father, car, family, brother, house, money,\n",
      "Cluster 2 titles: The Godfather, The Shawshank Redemption, Raging Bull, Gone with the Wind, The Godfather: Part II, Psycho, Sunset Blvd., On the Waterfront, Chinatown, It's a Wonderful Life, Amadeus, A Streetcar Named Desire, The Philadelphia Story, To Kill a Mockingbird, The Best Years of Our Lives, My Fair Lady, Ben-Hur, Doctor Zhivago, Braveheart, Goodfellas, The Exorcist, The French Connection, City Lights, The King's Speech, It Happened One Night, Midnight Cowboy, Rain Man, Out of Africa, Terms of Endearment, Fargo, Giant, American Graffiti, Pulp Fiction, Double Indemnity, Rebel Without a Cause, North by Northwest,\n",
      "\n"
     ]
    }
   ],
   "source": [
    "print(\"Top terms per cluster:\")\n",
    "order_centroids = np.asarray(centers).argsort()[:, ::-1]\n",
    "cluster_names = []\n",
    "for i in range(order_centroids.shape[0]):\n",
    "    print(\"Cluster %d words:\" % i, end='')\n",
    "    q = \"\"\n",
    "    for ind in order_centroids[i, :6]:\n",
    "        print(' %s' % terms[ind], end=',')\n",
    "        q += str(terms[ind])\n",
    "        q += \" \"\n",
    "    cluster_names.append(q)\n",
    "    print()\n",
    "    print(\"Cluster %d titles:\" % i, end='')\n",
    "    for title in frame.loc[i]['title'].values.tolist():\n",
    "        print(' %s,' % title, end='')\n",
    "    print()\n",
    "    print()"
   ]
  },
  {
   "cell_type": "markdown",
   "metadata": {},
   "source": [
    "### Plotting the Data\n",
    "Now we plot the various movie clusters.\n",
    "Basically we scale the multi-dimentional feature vector by applying 2 dimensional PCA. It is a technique used to visualize multi-dimensional plots in 2 dimensions. More about it [here](http://www.apnorton.com/blog/2016/12/19/Visualizing-Multidimensional-Data-in-Python/)."
   ]
  },
  {
   "cell_type": "code",
   "execution_count": 15,
   "metadata": {},
   "outputs": [],
   "source": [
    "import matplotlib.pyplot as plt\n",
    "from sklearn.decomposition import PCA as sklearnPCA"
   ]
  },
  {
   "cell_type": "code",
   "execution_count": 16,
   "metadata": {},
   "outputs": [],
   "source": [
    "pca = sklearnPCA(n_components=2) #2-dimensional PCA\n",
    "transformed = pd.DataFrame(pca.fit_transform(tfidf_matrix.todense()))"
   ]
  },
  {
   "cell_type": "code",
   "execution_count": 17,
   "metadata": {},
   "outputs": [
    {
     "data": {
      "image/png": "[encoded data removed]",
      "text/plain": [
       "<matplotlib.figure.Figure at 0x7fcbaf0d7c50>"
      ]
     },
     "metadata": {},
     "output_type": "display_data"
    }
   ],
   "source": [
    "colors = ['red', 'blue', 'green', 'yellow', 'black', 'gray', 'orange', 'brown']\n",
    "for i in range(len(cluster_names)):\n",
    "    plt.scatter(transformed[labels == i][0], transformed[labels == i][1], label=cluster_names[i], c=colors[i])\n",
    "plt.legend()\n",
    "plt.show()"
   ]
  },
  {
   "cell_type": "markdown",
   "metadata": {},
   "source": [
    "# And you're done!"
   ]
  }
 ],
 "metadata": {
  "kernelspec": {
   "display_name": "Python 3",
   "language": "python",
   "name": "python3"
  },
  "language_info": {
   "codemirror_mode": {
    "name": "ipython",
    "version": 3
   },
   "file_extension": ".py",
   "mimetype": "text/x-python",
   "name": "python",
   "nbconvert_exporter": "python",
   "pygments_lexer": "ipython3",
   "version": "3.6.3"
  }
 },
 "nbformat": 4,
 "nbformat_minor": 2
}
